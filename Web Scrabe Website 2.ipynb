{
 "cells": [
  {
   "cell_type": "code",
   "execution_count": 5,
   "id": "535c3cc5",
   "metadata": {},
   "outputs": [],
   "source": [
    "import requests\n",
    "from bs4 import BeautifulSoup\n",
    "import csv\n",
    "\n",
    "url = 'https://ecepp.ebrd.com/delta/noticeSearchResults.html' # استبدل برابط الصفحة المطلوبة\n",
    "response = requests.get(url)\n",
    "soup = BeautifulSoup(response.content, 'html.parser')\n",
    "\n",
    "# استخراج الصفوف من الجدول\n",
    "table = soup.find('table')\n",
    "\n",
    "with open('data2.csv', mode='w', newline='', encoding='utf-8') as csv_file:\n",
    "    # تحديد عناوين الأعمدة\n",
    "    fieldnames = ['Title', 'Notice Type', 'Procurement Exercise Title', 'Published', 'Closing Date', 'Current State', 'Link']\n",
    "    writer = csv.DictWriter(csv_file, fieldnames=fieldnames)\n",
    "\n",
    "    # كتابة عناوين الأعمدة في الملف CSV\n",
    "    writer.writeheader()\n",
    "\n",
    "    # العثور على جميع الصفوف داخل الجدول\n",
    "    rows = table.find_all('tr')[1:]  # تجاهل الصف الأول الذي يحتوي على عناوين الأعمدة\n",
    "\n",
    "    # كتابة البيانات في الملف CSV\n",
    "    for row in rows:\n",
    "        # استخراج البيانات من الصف\n",
    "        cells = row.find_all('td')\n",
    "        title = cells[0].get_text().strip()\n",
    "        notice_type = cells[1].get_text().strip()\n",
    "        procurement_exercise_title = cells[2].get_text().strip()\n",
    "        published = cells[3].get_text().strip()\n",
    "        closing_date = cells[4].get_text().strip()\n",
    "        current_state = cells[5].get_text().strip()\n",
    "        link_suffix = cells[0].find('a').get('href') # استخراج جزء الرابط النسبي\n",
    "\n",
    "        # تكوين الرابط الكامل\n",
    "        link = f'https://ecepp.ebrd.com/delta/{link_suffix}'\n",
    "\n",
    "        # كتابة البيانات في الملف CSV\n",
    "        writer.writerow({'Title': title, 'Notice Type': notice_type, 'Procurement Exercise Title': procurement_exercise_title, 'Published': published, 'Closing Date': closing_date, 'Current State': current_state, 'Link': link})"
   ]
  },
  {
   "cell_type": "code",
   "execution_count": null,
   "id": "3e837a3f",
   "metadata": {},
   "outputs": [],
   "source": []
  },
  {
   "cell_type": "code",
   "execution_count": null,
   "id": "501691fe",
   "metadata": {},
   "outputs": [],
   "source": []
  },
  {
   "cell_type": "code",
   "execution_count": null,
   "id": "e4cc1e5e",
   "metadata": {},
   "outputs": [],
   "source": []
  }
 ],
 "metadata": {
  "kernelspec": {
   "display_name": "Python 3 (ipykernel)",
   "language": "python",
   "name": "python3"
  },
  "language_info": {
   "codemirror_mode": {
    "name": "ipython",
    "version": 3
   },
   "file_extension": ".py",
   "mimetype": "text/x-python",
   "name": "python",
   "nbconvert_exporter": "python",
   "pygments_lexer": "ipython3",
   "version": "3.10.9"
  }
 },
 "nbformat": 4,
 "nbformat_minor": 5
}
